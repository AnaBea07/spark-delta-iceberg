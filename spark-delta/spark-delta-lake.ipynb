{
 "cells": [
  {
   "attachments": {},
   "cell_type": "markdown",
   "id": "e4f181bd",
   "metadata": {},
   "source": [
    "# Apache Spark com Delta Lake\n",
    "\n",
    "Este notebook demonstra o uso de Apache Spark com Delta Lake para manipulação de dados estruturados em um cenário de locadora de veículos.\n",
    "\n",
    "## Cenário do Projeto\n",
    "\n",
    "O sistema gerencia dois tipos de entidades:\n",
    "- **Clientes**: contendo informações pessoais como nome, e-mail e telefone.\n",
    "- **Carros**: contendo a placa e o cliente responsável.\n",
    "\n",
    "### Modelo ER Simplificado\n",
    "Cliente (1) --- (N) Carros\n",
    "\n",
    "![modelo ER](https://i.imgur.com/MmGpRkh.png)\n",
    "\n",
    "### Fonte dos Dados\n",
    "Os dados utilizados neste projeto são fictícios, inspirados em sistemas de locadoras de veículos"
   ]
  },
  {
   "cell_type": "code",
   "execution_count": null,
   "id": "eee391d8-5995-4b87-af9f-5bbcde5ceb49",
   "metadata": {},
   "outputs": [],
   "source": [
    "from pyspark.sql import SparkSession\n",
    "from pyspark.sql.types import StructType, StructField, StringType, FloatType\n",
    "\n",
    "from delta import *"
   ]
  },
  {
   "cell_type": "code",
   "execution_count": null,
   "id": "870562ef-5093-46e3-ab36-bdf71266e017",
   "metadata": {},
   "outputs": [],
   "source": [
    "# Create SparkSession\n",
    "spark = (\n",
    "    SparkSession\n",
    "    .builder\n",
    "    .master(\"local[*]\")\n",
    "    .config(\"spark.jars.packages\", \"io.delta:delta-spark_2.12:3.2.0\")\n",
    "    .config(\"spark.sql.extensions\", \"io.delta.sql.DeltaSparkSessionExtension\")\n",
    "    .config(\"spark.sql.catalog.spark_catalog\", \"org.apache.spark.sql.delta.catalog.DeltaCatalog\")\n",
    "    .getOrCreate()\n",
    ")"
   ]
  },
  {
   "cell_type": "code",
   "execution_count": null,
   "id": "e903c885",
   "metadata": {},
   "outputs": [],
   "source": [
    "spark"
   ]
  },
  {
   "attachments": {},
   "cell_type": "markdown",
   "id": "780730ee",
   "metadata": {},
   "source": [
    "## Criação das Tabelas Delta"
   ]
  },
  {
   "cell_type": "code",
   "execution_count": null,
   "id": "43c72307",
   "metadata": {},
   "outputs": [],
   "source": [
    "spark.sql(\"\"\"\n",
    "  CREATE TABLE cliente_delta (\n",
    "    id INT,\n",
    "    nome STRING,\n",
    "    email STRING,\n",
    "    telefone STRING\n",
    "  ) USING delta\n",
    "\"\"\")\n",
    "\n",
    "spark.sql(\"\"\"\n",
    "  CREATE TABLE carro_delta (\n",
    "    id INT,\n",
    "    placa STRING,\n",
    "    cliente_id INT\n",
    "  ) USING delta\n",
    "\"\"\")"
   ]
  },
  {
   "cell_type": "code",
   "execution_count": null,
   "id": "8f3e525e",
   "metadata": {},
   "outputs": [],
   "source": [
    "spark.sql(\"SELECT * FROM cliente_delta\").show()"
   ]
  },
  {
   "cell_type": "code",
   "execution_count": null,
   "id": "8bd87234",
   "metadata": {},
   "outputs": [],
   "source": [
    "spark.sql(\"SELECT * FROM carro_delta\").show()"
   ]
  },
  {
   "cell_type": "code",
   "execution_count": null,
   "id": "745bd469",
   "metadata": {},
   "outputs": [],
   "source": [
    "from delta.tables import DeltaTable\n",
    "\n",
    "cliente = DeltaTable.forPath(spark, \"./spark-warehouse/cliente_delta\")\n",
    "\n",
    "carro = DeltaTable.forPath(spark, \"./spark-warehouse/carro_delta\")"
   ]
  },
  {
   "cell_type": "code",
   "execution_count": null,
   "id": "889cc7c6",
   "metadata": {},
   "outputs": [],
   "source": [
    "cliente.history().show()"
   ]
  },
  {
   "cell_type": "code",
   "execution_count": null,
   "id": "0d1b6ba2",
   "metadata": {},
   "outputs": [],
   "source": [
    "carro.history().show()"
   ]
  },
  {
   "attachments": {},
   "cell_type": "markdown",
   "id": "fd374c31",
   "metadata": {},
   "source": [
    "## Inserção de Dados nas Tabelas Delta"
   ]
  },
  {
   "cell_type": "code",
   "execution_count": null,
   "id": "0bc7f587",
   "metadata": {},
   "outputs": [],
   "source": [
    "spark.sql(\"\"\"\n",
    "  INSERT INTO cliente_delta VALUES\n",
    "  (1, 'Ana Souza', 'ana@email.com', '(11) 91234-5678'),\n",
    "  (2, 'Bruno Lima', 'bruno@email.com', '(21) 99876-5432'),\n",
    "  (3, 'Carla Mendes', 'carla@email.com', '(31) 98765-4321')\n",
    "\"\"\")\n",
    "\n",
    "spark.sql(\"\"\"\n",
    "  INSERT INTO carro_delta VALUES\n",
    "  (1, 'XYZ1J34', 1),\n",
    "  (2, 'RLC5B93', 2),\n",
    "  (3, 'ABC9Z88', 1)\n",
    "\"\"\")"
   ]
  },
  {
   "cell_type": "code",
   "execution_count": null,
   "id": "8daecc88",
   "metadata": {},
   "outputs": [],
   "source": [
    "spark.sql(\"SELECT * FROM cliente_delta\").show()\n",
    "spark.sql(\"SELECT * FROM carro_delta\").show()"
   ]
  },
  {
   "attachments": {},
   "cell_type": "markdown",
   "id": "3052c184",
   "metadata": {},
   "source": [
    "## Comandos de Manipulação: UPDATE e DELETE"
   ]
  },
  {
   "cell_type": "code",
   "execution_count": null,
   "id": "d5678a0a",
   "metadata": {},
   "outputs": [],
   "source": [
    "spark.sql(\"\"\"\n",
    "  UPDATE cliente_delta\n",
    "  SET telefone = '(11) 90000-0000'\n",
    "  WHERE id = 1\n",
    "\"\"\")\n",
    "\n",
    "spark.sql(\"\"\"\n",
    "  DELETE FROM carro_delta\n",
    "  WHERE id = 2\n",
    "\"\"\")"
   ]
  },
  {
   "attachments": {},
   "cell_type": "markdown",
   "id": "4b8437c4",
   "metadata": {},
   "source": [
    "## Visualização dos Dados e Histórico Delta Lake"
   ]
  },
  {
   "cell_type": "code",
   "execution_count": null,
   "id": "82b75080",
   "metadata": {},
   "outputs": [],
   "source": [
    "spark.sql(\"SELECT * FROM cliente_delta\").show()\n",
    "spark.sql(\"SELECT * FROM carro_delta\").show()\n",
    "\n",
    "\n",
    "cliente.history().show(truncate=False)\n",
    "carro.history().show(truncate=False)"
   ]
  }
 ],
 "metadata": {
  "kernelspec": {
   "display_name": ".venv",
   "language": "python",
   "name": "python3"
  },
  "language_info": {
   "codemirror_mode": {
    "name": "ipython",
    "version": 3
   },
   "file_extension": ".py",
   "mimetype": "text/x-python",
   "name": "python",
   "nbconvert_exporter": "python",
   "pygments_lexer": "ipython3"
  },
  "vscode": {
   "interpreter": {
    "hash": "a40231b0ee4d7f1088e362d8b92df1840d4ba31877eaaab8ccded439bdf18c33"
   }
  }
 },
 "nbformat": 4,
 "nbformat_minor": 5
}
