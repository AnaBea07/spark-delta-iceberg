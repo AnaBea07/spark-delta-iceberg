{
 "cells": [
  {
   "cell_type": "code",
   "execution_count": 3,
   "id": "46c52b64-eb83-4fee-8d1a-f1bb7303ac45",
   "metadata": {},
   "outputs": [],
   "source": [
    "from pyspark.sql import SparkSession\n",
    "from pyspark.sql.types import StructType, StructField, StringType, FloatType"
   ]
  },
  {
   "cell_type": "code",
   "execution_count": 4,
   "id": "5cbd5e95-20e1-45ee-868f-3cbdb766f01d",
   "metadata": {},
   "outputs": [],
   "source": [
    "spark = SparkSession.builder \\\n",
    "  .appName(\"IcebergLocalDevelopment\") \\\n",
    "  .config('spark.jars.packages', 'org.apache.iceberg:iceberg-spark-runtime-3.5_2.12:1.6.1') \\\n",
    "  .config(\"spark.sql.extensions\", \"org.apache.iceberg.spark.extensions.IcebergSparkSessionExtensions\") \\\n",
    "  .config(\"spark.sql.catalog.local\", \"org.apache.iceberg.spark.SparkCatalog\") \\\n",
    "  .config(\"spark.sql.catalog.local.type\", \"hadoop\") \\\n",
    "  .config(\"spark.sql.catalog.local.warehouse\", \"spark-warehouse/iceberg\") \\\n",
    "  .getOrCreate()"
   ]
  },
  {
   "cell_type": "code",
   "execution_count": 5,
   "id": "c0673164-3843-4b14-be71-7d3664a3b6c1",
   "metadata": {},
   "outputs": [
    {
     "data": {
      "text/html": [
       "\n",
       "            <div>\n",
       "                <p><b>SparkSession - in-memory</b></p>\n",
       "                \n",
       "        <div>\n",
       "            <p><b>SparkContext</b></p>\n",
       "\n",
       "            <p><a href=\"http://10.255.255.254:4041\">Spark UI</a></p>\n",
       "\n",
       "            <dl>\n",
       "              <dt>Version</dt>\n",
       "                <dd><code>v3.5.3</code></dd>\n",
       "              <dt>Master</dt>\n",
       "                <dd><code>local[*]</code></dd>\n",
       "              <dt>AppName</dt>\n",
       "                <dd><code>IcebergLocalDevelopment</code></dd>\n",
       "            </dl>\n",
       "        </div>\n",
       "        \n",
       "            </div>\n",
       "        "
      ],
      "text/plain": [
       "<pyspark.sql.session.SparkSession at 0x7f55886573e0>"
      ]
     },
     "execution_count": 5,
     "metadata": {},
     "output_type": "execute_result"
    }
   ],
   "source": [
    "spark"
   ]
  },
  {
   "cell_type": "code",
   "execution_count": 6,
   "id": "3225fdb9-154b-43dc-806d-01dbd27e3179",
   "metadata": {},
   "outputs": [
    {
     "data": {
      "text/plain": [
       "DataFrame[]"
      ]
     },
     "execution_count": 6,
     "metadata": {},
     "output_type": "execute_result"
    }
   ],
   "source": [
    "spark.sql(\n",
    "  \"\"\"\n",
    "  CREATE TABLE local.carro_iceberg (\n",
    "    id INT, \n",
    "    placa STRING, \n",
    "    marca STRING, \n",
    "    modelo STRING, \n",
    "    ano INT, \n",
    "    cor STRING\n",
    "  ) USING iceberg\n",
    "  \"\"\"\n",
    ")"
   ]
  },
  {
   "cell_type": "code",
   "execution_count": 7,
   "id": "6f7d13d7-8f9a-4c6c-b5de-2e4a32d20ff1",
   "metadata": {},
   "outputs": [
    {
     "name": "stderr",
     "output_type": "stream",
     "text": [
      "                                                                                "
     ]
    },
    {
     "data": {
      "text/plain": [
       "DataFrame[]"
      ]
     },
     "execution_count": 7,
     "metadata": {},
     "output_type": "execute_result"
    }
   ],
   "source": [
    "spark.sql(\n",
    "  \"\"\"\n",
    "  INSERT INTO local.carro_iceberg VALUES\n",
    "    (1, 'ABC1234', 'Fiat', 'Uno', 2020, 'Azul'),\n",
    "    (2, 'XYZ5678', 'Volkswagen', 'Gol', 2018, 'Preto')\n",
    "  \"\"\"\n",
    ")"
   ]
  },
  {
   "cell_type": "code",
   "execution_count": 8,
   "id": "9a848f74-36fd-42d2-ae8e-752da53f22b7",
   "metadata": {},
   "outputs": [
    {
     "name": "stderr",
     "output_type": "stream",
     "text": [
      "                                                                                "
     ]
    },
    {
     "name": "stdout",
     "output_type": "stream",
     "text": [
      "+---+-------+----------+------+----+-----+\n",
      "| id|  placa|     marca|modelo| ano|  cor|\n",
      "+---+-------+----------+------+----+-----+\n",
      "|  1|ABC1234|      Fiat|   Uno|2020| Azul|\n",
      "|  2|XYZ5678|Volkswagen|   Gol|2018|Preto|\n",
      "+---+-------+----------+------+----+-----+\n",
      "\n"
     ]
    }
   ],
   "source": [
    "spark.sql(\"select * from local.carro_iceberg\").show()"
   ]
  },
  {
   "cell_type": "code",
   "execution_count": 9,
   "id": "4974c7f9-1bc8-4793-b299-278fe912a6ca",
   "metadata": {},
   "outputs": [
    {
     "data": {
      "text/plain": [
       "DataFrame[]"
      ]
     },
     "execution_count": 9,
     "metadata": {},
     "output_type": "execute_result"
    }
   ],
   "source": [
    "spark.sql(\n",
    "  \"\"\"\n",
    "  CREATE TABLE local.cliente_iceberg (\n",
    "    id INT,\n",
    "    nome STRING,\n",
    "    email STRING\n",
    "  ) USING iceberg\n",
    "  \"\"\"\n",
    ")"
   ]
  },
  {
   "cell_type": "code",
   "execution_count": 10,
   "id": "d6d2edd6-f0d2-429b-9d2f-21d97558c35d",
   "metadata": {},
   "outputs": [
    {
     "data": {
      "text/plain": [
       "DataFrame[]"
      ]
     },
     "execution_count": 10,
     "metadata": {},
     "output_type": "execute_result"
    }
   ],
   "source": [
    "spark.sql(\n",
    "  \"\"\"\n",
    "  ALTER TABLE local.cliente_iceberg ADD COLUMNS (telefone STRING, endereco STRING)\n",
    "  \"\"\"\n",
    ")"
   ]
  },
  {
   "cell_type": "code",
   "execution_count": 11,
   "id": "954b566f-2064-487d-be09-48bdc7fd0a3b",
   "metadata": {},
   "outputs": [
    {
     "data": {
      "text/plain": [
       "DataFrame[]"
      ]
     },
     "execution_count": 11,
     "metadata": {},
     "output_type": "execute_result"
    }
   ],
   "source": [
    "spark.sql(\n",
    "  \"\"\"\n",
    "  INSERT INTO local.cliente_iceberg VALUES\n",
    "    (1, 'João Silva', 'joao.silva@email.com', '123456789', 'Rua A, 123'),\n",
    "    (2, 'Maria Oliveira', 'maria.oliveira@email.com', '987654321', 'Avenida B, 456'),\n",
    "    (3, 'Carlos Souza', 'carlos.souza@email.com', '112233445', 'Rua C, 789'),\n",
    "    (4, 'Aline Lima', 'aline@email.com', '556677889', 'Rua D, 101')\n",
    "  \"\"\"\n",
    ")"
   ]
  },
  {
   "cell_type": "code",
   "execution_count": 12,
   "id": "73dd0b6d-b6e3-475a-80de-9cf513717e52",
   "metadata": {},
   "outputs": [
    {
     "name": "stdout",
     "output_type": "stream",
     "text": [
      "+---+--------------+--------------------+---------+--------------+\n",
      "| id|          nome|               email| telefone|      endereco|\n",
      "+---+--------------+--------------------+---------+--------------+\n",
      "|  1|    João Silva|joao.silva@email.com|123456789|    Rua A, 123|\n",
      "|  2|Maria Oliveira|maria.oliveira@em...|987654321|Avenida B, 456|\n",
      "|  3|  Carlos Souza|carlos.souza@emai...|112233445|    Rua C, 789|\n",
      "|  4|    Aline Lima|     aline@email.com|556677889|    Rua D, 101|\n",
      "+---+--------------+--------------------+---------+--------------+\n",
      "\n"
     ]
    }
   ],
   "source": [
    "spark.sql(\"SELECT * FROM local.cliente_iceberg\").show()"
   ]
  },
  {
   "cell_type": "code",
   "execution_count": 13,
   "id": "43a28c3c-b857-4879-b627-4cf6740271ce",
   "metadata": {},
   "outputs": [
    {
     "data": {
      "text/plain": [
       "DataFrame[]"
      ]
     },
     "execution_count": 13,
     "metadata": {},
     "output_type": "execute_result"
    }
   ],
   "source": [
    "spark.sql('delete from local.cliente_iceberg where id = 3')"
   ]
  },
  {
   "cell_type": "code",
   "execution_count": 14,
   "id": "b3d30b0b-f3ef-468c-b69e-86065996c550",
   "metadata": {},
   "outputs": [
    {
     "name": "stdout",
     "output_type": "stream",
     "text": [
      "+---+--------------+--------------------+---------+--------------+\n",
      "| id|          nome|               email| telefone|      endereco|\n",
      "+---+--------------+--------------------+---------+--------------+\n",
      "|  1|    João Silva|joao.silva@email.com|123456789|    Rua A, 123|\n",
      "|  2|Maria Oliveira|maria.oliveira@em...|987654321|Avenida B, 456|\n",
      "|  4|    Aline Lima|     aline@email.com|556677889|    Rua D, 101|\n",
      "+---+--------------+--------------------+---------+--------------+\n",
      "\n"
     ]
    }
   ],
   "source": [
    "spark.sql(\"SELECT * FROM local.cliente_iceberg\").show()"
   ]
  }
 ],
 "metadata": {
  "kernelspec": {
   "display_name": "Python 3 (ipykernel)",
   "language": "python",
   "name": "python3"
  },
  "language_info": {
   "codemirror_mode": {
    "name": "ipython",
    "version": 3
   },
   "file_extension": ".py",
   "mimetype": "text/x-python",
   "name": "python",
   "nbconvert_exporter": "python",
   "pygments_lexer": "ipython3",
   "version": "3.12.3"
  }
 },
 "nbformat": 4,
 "nbformat_minor": 5
}
