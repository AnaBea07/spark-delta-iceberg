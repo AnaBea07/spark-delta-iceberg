{
 "cells": [
  {
   "cell_type": "code",
   "execution_count": 1,
   "id": "46c52b64-eb83-4fee-8d1a-f1bb7303ac45",
   "metadata": {},
   "outputs": [],
   "source": [
    "from pyspark.sql import SparkSession\n",
    "from pyspark.sql.types import StructType, StructField, StringType, FloatType"
   ]
  },
  {
   "cell_type": "code",
   "execution_count": 2,
   "id": "5cbd5e95-20e1-45ee-868f-3cbdb766f01d",
   "metadata": {},
   "outputs": [
    {
     "name": "stderr",
     "output_type": "stream",
     "text": [
      "your 131072x1 screen size is bogus. expect trouble\n",
      "25/04/23 17:48:50 WARN Utils: Your hostname, Julia resolves to a loopback address: 127.0.1.1; using 10.255.255.254 instead (on interface lo)\n",
      "25/04/23 17:48:51 WARN Utils: Set SPARK_LOCAL_IP if you need to bind to another address\n"
     ]
    },
    {
     "name": "stdout",
     "output_type": "stream",
     "text": [
      ":: loading settings :: url = jar:file:/mnt/c/Users/julia/Desktop/eng_dados/spark-delta-iceberg/.venv/lib/python3.12/site-packages/pyspark/jars/ivy-2.5.1.jar!/org/apache/ivy/core/settings/ivysettings.xml\n"
     ]
    },
    {
     "name": "stderr",
     "output_type": "stream",
     "text": [
      "Ivy Default Cache set to: /home/julia/.ivy2/cache\n",
      "The jars for the packages stored in: /home/julia/.ivy2/jars\n",
      "org.apache.iceberg#iceberg-spark-runtime-3.5_2.12 added as a dependency\n",
      ":: resolving dependencies :: org.apache.spark#spark-submit-parent-783fbd13-4fdf-455f-b3d7-335699b4870e;1.0\n",
      "\tconfs: [default]\n",
      "\tfound org.apache.iceberg#iceberg-spark-runtime-3.5_2.12;1.6.1 in central\n",
      "downloading https://repo1.maven.org/maven2/org/apache/iceberg/iceberg-spark-runtime-3.5_2.12/1.6.1/iceberg-spark-runtime-3.5_2.12-1.6.1.jar ...\n",
      "\t[SUCCESSFUL ] org.apache.iceberg#iceberg-spark-runtime-3.5_2.12;1.6.1!iceberg-spark-runtime-3.5_2.12.jar (11283ms)\n",
      ":: resolution report :: resolve 1847ms :: artifacts dl 11287ms\n",
      "\t:: modules in use:\n",
      "\torg.apache.iceberg#iceberg-spark-runtime-3.5_2.12;1.6.1 from central in [default]\n",
      "\t---------------------------------------------------------------------\n",
      "\t|                  |            modules            ||   artifacts   |\n",
      "\t|       conf       | number| search|dwnlded|evicted|| number|dwnlded|\n",
      "\t---------------------------------------------------------------------\n",
      "\t|      default     |   1   |   1   |   1   |   0   ||   1   |   1   |\n",
      "\t---------------------------------------------------------------------\n",
      ":: retrieving :: org.apache.spark#spark-submit-parent-783fbd13-4fdf-455f-b3d7-335699b4870e\n",
      "\tconfs: [default]\n",
      "\t1 artifacts copied, 0 already retrieved (40844kB/493ms)\n",
      "25/04/23 17:49:06 WARN NativeCodeLoader: Unable to load native-hadoop library for your platform... using builtin-java classes where applicable\n",
      "Setting default log level to \"WARN\".\n",
      "To adjust logging level use sc.setLogLevel(newLevel). For SparkR, use setLogLevel(newLevel).\n",
      "25/04/23 17:49:09 WARN Utils: Service 'SparkUI' could not bind on port 4040. Attempting port 4041.\n"
     ]
    }
   ],
   "source": [
    "spark = SparkSession.builder \\\n",
    "  .appName(\"IcebergLocalDevelopment\") \\\n",
    "  .config('spark.jars.packages', 'org.apache.iceberg:iceberg-spark-runtime-3.5_2.12:1.6.1') \\\n",
    "  .config(\"spark.sql.extensions\", \"org.apache.iceberg.spark.extensions.IcebergSparkSessionExtensions\") \\\n",
    "  .config(\"spark.sql.catalog.local\", \"org.apache.iceberg.spark.SparkCatalog\") \\\n",
    "  .config(\"spark.sql.catalog.local.type\", \"hadoop\") \\\n",
    "  .config(\"spark.sql.catalog.local.warehouse\", \"spark-warehouse/iceberg\") \\\n",
    "  .getOrCreate()"
   ]
  },
  {
   "cell_type": "code",
   "execution_count": 3,
   "id": "c0673164-3843-4b14-be71-7d3664a3b6c1",
   "metadata": {},
   "outputs": [
    {
     "data": {
      "text/html": [
       "\n",
       "            <div>\n",
       "                <p><b>SparkSession - in-memory</b></p>\n",
       "                \n",
       "        <div>\n",
       "            <p><b>SparkContext</b></p>\n",
       "\n",
       "            <p><a href=\"http://10.255.255.254:4041\">Spark UI</a></p>\n",
       "\n",
       "            <dl>\n",
       "              <dt>Version</dt>\n",
       "                <dd><code>v3.5.3</code></dd>\n",
       "              <dt>Master</dt>\n",
       "                <dd><code>local[*]</code></dd>\n",
       "              <dt>AppName</dt>\n",
       "                <dd><code>IcebergLocalDevelopment</code></dd>\n",
       "            </dl>\n",
       "        </div>\n",
       "        \n",
       "            </div>\n",
       "        "
      ],
      "text/plain": [
       "<pyspark.sql.session.SparkSession at 0x7fdf04472780>"
      ]
     },
     "execution_count": 3,
     "metadata": {},
     "output_type": "execute_result"
    }
   ],
   "source": [
    "spark"
   ]
  },
  {
   "cell_type": "code",
   "execution_count": 4,
   "id": "3225fdb9-154b-43dc-806d-01dbd27e3179",
   "metadata": {},
   "outputs": [
    {
     "data": {
      "text/plain": [
       "DataFrame[]"
      ]
     },
     "execution_count": 4,
     "metadata": {},
     "output_type": "execute_result"
    }
   ],
   "source": [
    "spark.sql(\n",
    "  \"\"\"\n",
    "  CREATE TABLE local.carro_iceberg (\n",
    "    id INT, \n",
    "    placa STRING, \n",
    "    marca STRING, \n",
    "    modelo STRING, \n",
    "    ano INT, \n",
    "    cor STRING\n",
    "  ) USING iceberg\n",
    "  \"\"\"\n",
    ")"
   ]
  },
  {
   "cell_type": "code",
   "execution_count": 5,
   "id": "6f7d13d7-8f9a-4c6c-b5de-2e4a32d20ff1",
   "metadata": {},
   "outputs": [
    {
     "data": {
      "text/plain": [
       "DataFrame[]"
      ]
     },
     "execution_count": 5,
     "metadata": {},
     "output_type": "execute_result"
    }
   ],
   "source": [
    "spark.sql(\n",
    "  \"\"\"\n",
    "  INSERT INTO local.carro_iceberg VALUES\n",
    "    (1, 'ABC1234', 'Fiat', 'Uno', 2020, 'Azul'),\n",
    "    (2, 'XYZ5678', 'Volkswagen', 'Gol', 2018, 'Preto')\n",
    "  \"\"\"\n",
    ")"
   ]
  },
  {
   "cell_type": "code",
   "execution_count": 6,
   "id": "9a848f74-36fd-42d2-ae8e-752da53f22b7",
   "metadata": {},
   "outputs": [
    {
     "name": "stdout",
     "output_type": "stream",
     "text": [
      "+---+-------+----------+------+----+-----+\n",
      "| id|  placa|     marca|modelo| ano|  cor|\n",
      "+---+-------+----------+------+----+-----+\n",
      "|  1|ABC1234|      Fiat|   Uno|2020| Azul|\n",
      "|  2|XYZ5678|Volkswagen|   Gol|2018|Preto|\n",
      "+---+-------+----------+------+----+-----+\n",
      "\n"
     ]
    }
   ],
   "source": [
    "spark.sql(\"select * from local.carro_iceberg\").show()"
   ]
  },
  {
   "cell_type": "code",
   "execution_count": 7,
   "id": "4974c7f9-1bc8-4793-b299-278fe912a6ca",
   "metadata": {},
   "outputs": [
    {
     "data": {
      "text/plain": [
       "DataFrame[]"
      ]
     },
     "execution_count": 7,
     "metadata": {},
     "output_type": "execute_result"
    }
   ],
   "source": [
    "spark.sql(\n",
    "  \"\"\"\n",
    "  CREATE TABLE local.cliente_iceberg (\n",
    "    id INT,\n",
    "    nome STRING,\n",
    "    email STRING\n",
    "  ) USING iceberg\n",
    "  \"\"\"\n",
    ")"
   ]
  },
  {
   "cell_type": "code",
   "execution_count": 8,
   "id": "d6d2edd6-f0d2-429b-9d2f-21d97558c35d",
   "metadata": {},
   "outputs": [
    {
     "data": {
      "text/plain": [
       "DataFrame[]"
      ]
     },
     "execution_count": 8,
     "metadata": {},
     "output_type": "execute_result"
    }
   ],
   "source": [
    "spark.sql(\n",
    "  \"\"\"\n",
    "  ALTER TABLE local.cliente_iceberg ADD COLUMNS (telefone STRING, endereco STRING)\n",
    "  \"\"\"\n",
    ")"
   ]
  },
  {
   "cell_type": "code",
   "execution_count": 9,
   "id": "954b566f-2064-487d-be09-48bdc7fd0a3b",
   "metadata": {},
   "outputs": [
    {
     "data": {
      "text/plain": [
       "DataFrame[]"
      ]
     },
     "execution_count": 9,
     "metadata": {},
     "output_type": "execute_result"
    }
   ],
   "source": [
    "spark.sql(\n",
    "  \"\"\"\n",
    "  INSERT INTO local.cliente_iceberg VALUES\n",
    "    (1, 'João Silva', 'joao.silva@email.com', '123456789', 'Rua A, 123'),\n",
    "    (2, 'Maria Oliveira', 'maria.oliveira@email.com', '987654321', 'Avenida B, 456'),\n",
    "    (3, 'Carlos Souza', 'carlos.souza@email.com', '112233445', 'Rua C, 789'),\n",
    "    (4, 'Aline Lima', 'aline@email.com', '556677889', 'Rua D, 101')\n",
    "  \"\"\"\n",
    ")"
   ]
  },
  {
   "cell_type": "code",
   "execution_count": 10,
   "id": "73dd0b6d-b6e3-475a-80de-9cf513717e52",
   "metadata": {},
   "outputs": [
    {
     "name": "stdout",
     "output_type": "stream",
     "text": [
      "+---+--------------+--------------------+---------+--------------+\n",
      "| id|          nome|               email| telefone|      endereco|\n",
      "+---+--------------+--------------------+---------+--------------+\n",
      "|  1|    João Silva|joao.silva@email.com|123456789|    Rua A, 123|\n",
      "|  2|Maria Oliveira|maria.oliveira@em...|987654321|Avenida B, 456|\n",
      "|  3|  Carlos Souza|carlos.souza@emai...|112233445|    Rua C, 789|\n",
      "|  4|    Aline Lima|     aline@email.com|556677889|    Rua D, 101|\n",
      "+---+--------------+--------------------+---------+--------------+\n",
      "\n"
     ]
    }
   ],
   "source": [
    "spark.sql(\"SELECT * FROM local.cliente_iceberg\").show()"
   ]
  },
  {
   "cell_type": "code",
   "execution_count": 11,
   "id": "43a28c3c-b857-4879-b627-4cf6740271ce",
   "metadata": {},
   "outputs": [
    {
     "data": {
      "text/plain": [
       "DataFrame[]"
      ]
     },
     "execution_count": 11,
     "metadata": {},
     "output_type": "execute_result"
    }
   ],
   "source": [
    "spark.sql('delete from local.cliente_iceberg where id = 3')"
   ]
  },
  {
   "cell_type": "code",
   "execution_count": 12,
   "id": "b3d30b0b-f3ef-468c-b69e-86065996c550",
   "metadata": {},
   "outputs": [
    {
     "name": "stdout",
     "output_type": "stream",
     "text": [
      "+---+--------------+--------------------+---------+--------------+\n",
      "| id|          nome|               email| telefone|      endereco|\n",
      "+---+--------------+--------------------+---------+--------------+\n",
      "|  1|    João Silva|joao.silva@email.com|123456789|    Rua A, 123|\n",
      "|  2|Maria Oliveira|maria.oliveira@em...|987654321|Avenida B, 456|\n",
      "|  4|    Aline Lima|     aline@email.com|556677889|    Rua D, 101|\n",
      "+---+--------------+--------------------+---------+--------------+\n",
      "\n"
     ]
    }
   ],
   "source": [
    "spark.sql(\"SELECT * FROM local.cliente_iceberg\").show()"
   ]
  }
 ],
 "metadata": {
  "kernelspec": {
   "display_name": ".venv",
   "language": "python",
   "name": "python3"
  },
  "language_info": {
   "codemirror_mode": {
    "name": "ipython",
    "version": 3
   },
   "file_extension": ".py",
   "mimetype": "text/x-python",
   "name": "python",
   "nbconvert_exporter": "python",
   "pygments_lexer": "ipython3",
   "version": "3.12.3"
  },
  "vscode": {
   "interpreter": {
    "hash": "d8e929fdf8120991fc93d01d1216f428a5506d126a47d06c797c3261a3355eba"
   }
  }
 },
 "nbformat": 4,
 "nbformat_minor": 5
}
